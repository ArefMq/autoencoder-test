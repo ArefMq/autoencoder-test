{
 "cells": [
  {
   "cell_type": "code",
   "execution_count": 1,
   "metadata": {},
   "outputs": [
    {
     "name": "stdout",
     "output_type": "stream",
     "text": [
      "(814, 8)\n",
      "(154, 8)\n"
     ]
    }
   ],
   "source": [
    "from dataset import load_normalized_dataset\n",
    "import numpy as np\n",
    "from random import choice\n",
    "\n",
    "# features = [\n",
    "#     'Number of times pregnant',\n",
    "#     'Plasma glucose concentration a 2 hours in an oral glucose tolerance test',\n",
    "#     'Diastolic blood pressure (mm Hg)',\n",
    "#     'Age (years)',\n",
    "# ]\n",
    "\n",
    "features = None\n",
    "\n",
    "\n",
    "x_train, x_test, y_train, y_test = load_normalized_dataset(features)\n",
    "\n",
    "\n",
    "# add random positive instance in order to balance the positive and negative samples\n",
    "ones = x_train[y_train == 1]\n",
    "for _ in range(200):\n",
    "    x_train = np.append(x_train, [choice(ones)], axis=0)\n",
    "    y_train = np.append(y_train, 1)\n",
    "\n",
    "\n",
    "print x_train.shape\n",
    "print x_test.shape\n",
    "\n",
    "dimensions = len(features) if features else 8"
   ]
  },
  {
   "cell_type": "code",
   "execution_count": 2,
   "metadata": {},
   "outputs": [
    {
     "name": "stderr",
     "output_type": "stream",
     "text": [
      "Using TensorFlow backend.\n"
     ]
    },
    {
     "name": "stdout",
     "output_type": "stream",
     "text": [
      "Loss = 0.1446\n",
      "0.00019904094 0.5102232 0.9928468\n"
     ]
    }
   ],
   "source": [
    "from keras.models import Sequential\n",
    "from keras.layers import Input, Dense\n",
    "model = Sequential()\n",
    "\n",
    "model.add(Dense(dimensions, activation='relu', input_dim=dimensions))\n",
    "model.add(Dense(35, activation='sigmoid'))\n",
    "# model.add(Dense(8, activation='sigmoid'))\n",
    "model.add(Dense(1, activation='sigmoid'))\n",
    "model.compile(loss='mean_squared_error',\n",
    "              optimizer='rmsprop',\n",
    "              metrics=['accuracy'])\n",
    "\n",
    "model.fit(x_train, #encoded_imgs,\n",
    "              y_train,\n",
    "              epochs=550,\n",
    "              batch_size=32,\n",
    "              #shuffle=True,\n",
    "              verbose=0)\n",
    "print 'Loss = %.4f' % model.evaluate(x_train, y_train, verbose=0)[0]\n",
    "y_pred = model.predict(x_train)\n",
    "print np.min(y_pred), np.average(y_pred), np.max(y_pred)"
   ]
  },
  {
   "cell_type": "code",
   "execution_count": 3,
   "metadata": {},
   "outputs": [
    {
     "name": "stdout",
     "output_type": "stream",
     "text": [
      "R2 Error = 0.29\n",
      "Precision = 0.7374\n",
      "Recal = 0.7460\n",
      "F-Score = 0.7411\n"
     ]
    }
   ],
   "source": [
    "from util import R2\n",
    "from sklearn.metrics import precision_recall_fscore_support\n",
    "\n",
    "# encoded_x_test = encoder.predict(x_test)\n",
    "y_pred = model.predict(x_test)\n",
    "\n",
    "\n",
    "a = y_pred.flatten()\n",
    "b = y_test\n",
    "\n",
    "print 'R2 Error = %.2f' % R2(a, b)\n",
    "\n",
    "a = [0 if i < 0.5 else 1 for i in a]\n",
    "b = [0 if i < 0.5 else 1 for i in b]\n",
    "precision, recal, f_score, support = precision_recall_fscore_support(a, b, average='macro')\n",
    "print 'Precision = %.4f' % precision\n",
    "print 'Recal = %.4f' % recal\n",
    "print 'F-Score = %.4f' % f_score"
   ]
  },
  {
   "cell_type": "code",
   "execution_count": 39,
   "metadata": {},
   "outputs": [
    {
     "name": "stdout",
     "output_type": "stream",
     "text": [
      "[0, 0, 0, 0, 1, 0, 0, 1, 0, 0, 1, 1, 0, 0, 1, 0, 0, 0, 0, 0, 0, 1, 0, 0, 0, 0, 0, 0, 0, 0, 0, 0, 0, 0, 0, 0, 0, 0, 1, 0, 0, 0, 1, 0, 0, 0, 0, 0, 0, 0, 0, 1, 0, 0, 0, 0, 0, 0, 1, 1, 1, 1, 0, 0, 1, 0, 0, 1, 1, 0, 0, 0, 0, 0, 0, 0, 0, 0, 0, 0, 0, 0, 0, 0, 0, 0, 0, 0, 0, 0, 1, 0, 0, 0, 1, 1, 0, 0, 0, 0, 0, 0, 0, 0, 0, 0, 0, 0, 0, 0, 0, 0, 0, 0, 0, 0, 0, 0, 0, 0, 0, 0, 0, 0, 0, 0, 1, 0, 0, 1, 0, 0, 0, 1, 1, 0, 1, 0, 0, 0, 1, 0, 0, 1, 0, 0, 0, 0, 0, 1, 1, 0, 1, 1]\n",
      "[0, 0, 1, 0, 0, 0, 1, 1, 0, 0, 1, 1, 0, 0, 1, 1, 1, 1, 0, 0, 0, 1, 0, 1, 1, 0, 0, 0, 0, 0, 0, 0, 1, 0, 1, 0, 0, 0, 0, 0, 0, 0, 1, 1, 0, 0, 0, 1, 1, 0, 1, 0, 0, 0, 0, 0, 1, 0, 1, 1, 1, 1, 1, 0, 1, 0, 0, 1, 1, 0, 1, 0, 0, 1, 0, 1, 0, 1, 0, 0, 1, 0, 1, 0, 0, 0, 0, 0, 1, 1, 1, 0, 0, 1, 0, 0, 0, 0, 0, 0, 0, 0, 0, 1, 0, 0, 1, 0, 0, 0, 1, 0, 1, 0, 1, 0, 0, 0, 0, 0, 0, 1, 0, 0, 0, 0, 1, 0, 1, 1, 1, 0, 0, 1, 1, 0, 1, 0, 0, 1, 1, 0, 1, 1, 0, 0, 1, 1, 0, 1, 1, 0, 1, 0]\n"
     ]
    }
   ],
   "source": [
    "print a\n",
    "print b"
   ]
  },
  {
   "cell_type": "code",
   "execution_count": null,
   "metadata": {},
   "outputs": [],
   "source": []
  }
 ],
 "metadata": {
  "kernelspec": {
   "display_name": "Python 2",
   "language": "python",
   "name": "python2"
  },
  "language_info": {
   "codemirror_mode": {
    "name": "ipython",
    "version": 2
   },
   "file_extension": ".py",
   "mimetype": "text/x-python",
   "name": "python",
   "nbconvert_exporter": "python",
   "pygments_lexer": "ipython2",
   "version": "2.7.15"
  }
 },
 "nbformat": 4,
 "nbformat_minor": 2
}
