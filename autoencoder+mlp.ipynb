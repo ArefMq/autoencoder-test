{
 "cells": [
  {
   "cell_type": "code",
   "execution_count": 1,
   "metadata": {},
   "outputs": [
    {
     "name": "stderr",
     "output_type": "stream",
     "text": [
      "Using TensorFlow backend.\n"
     ]
    }
   ],
   "source": [
    "from keras.layers import Input, Dense\n",
    "from keras.models import Model\n",
    "\n",
    "input_dim = 8\n",
    "encoding_dim = 5\n",
    "input_img = Input(shape=(input_dim,))\n",
    "\n",
    "# layers\n",
    "encoded = Dense(encoding_dim, activation='relu')(input_img)\n",
    "decoded = Dense(input_dim, activation='relu')(encoded)\n",
    "\n",
    "# models\n",
    "autoencoder = Model(input_img, decoded)\n",
    "encoder = Model(input_img, encoded)\n",
    "\n",
    "encoded_input = Input(shape=(encoding_dim,))\n",
    "decoder_layer = autoencoder.layers[-1]\n",
    "decoder = Model(encoded_input, decoder_layer(encoded_input))\n",
    "\n",
    "autoencoder.compile(optimizer='adadelta', loss='mean_squared_error')"
   ]
  },
  {
   "cell_type": "code",
   "execution_count": 2,
   "metadata": {},
   "outputs": [
    {
     "name": "stdout",
     "output_type": "stream",
     "text": [
      "(814, 8)\n",
      "(154, 8)\n"
     ]
    }
   ],
   "source": [
    "from dataset import load_normalized_dataset\n",
    "import numpy as np\n",
    "from random import choice\n",
    "\n",
    "# features = [\n",
    "#     'Number of times pregnant',\n",
    "#     'Plasma glucose concentration a 2 hours in an oral glucose tolerance test',\n",
    "#     'Diastolic blood pressure (mm Hg)',\n",
    "#     'Age (years)',\n",
    "# ]\n",
    "features = None\n",
    "\n",
    "x_train, x_test, y_train, y_test = load_normalized_dataset(features)\n",
    "\n",
    "# add random positive instance in order to balance the positive and negative samples\n",
    "ones = x_train[y_train == 1]\n",
    "for _ in range(200):\n",
    "    x_train = np.append(x_train, [choice(ones)], axis=0)\n",
    "    y_train = np.append(y_train, 1)\n",
    "\n",
    "\n",
    "print x_train.shape\n",
    "print x_test.shape"
   ]
  },
  {
   "cell_type": "code",
   "execution_count": 3,
   "metadata": {},
   "outputs": [
    {
     "data": {
      "text/plain": [
       "<keras.callbacks.History at 0x1271d3950>"
      ]
     },
     "execution_count": 3,
     "metadata": {},
     "output_type": "execute_result"
    }
   ],
   "source": [
    "autoencoder.fit(x_train, x_train,\n",
    "                epochs=500,\n",
    "                batch_size=32,\n",
    "                shuffle=True,\n",
    "                validation_data=(x_test, x_test),\n",
    "                verbose=0)"
   ]
  },
  {
   "cell_type": "code",
   "execution_count": 4,
   "metadata": {},
   "outputs": [
    {
     "name": "stdout",
     "output_type": "stream",
     "text": [
      "(814, 8) (814, 5)\n"
     ]
    },
    {
     "data": {
      "image/png": "[encoded data removed]",
      "text/plain": [
       "<Figure size 432x288 with 1 Axes>"
      ]
     },
     "metadata": {
      "needs_background": "light"
     },
     "output_type": "display_data"
    }
   ],
   "source": [
    "%matplotlib inline\n",
    "import matplotlib.pyplot as plt\n",
    "from random import randint\n",
    "\n",
    "encoded_imgs = encoder.predict(x_train)\n",
    "decoded_imgs = decoder.predict(encoded_imgs)\n",
    "\n",
    "print x_train.shape, encoded_imgs.shape\n",
    "\n",
    "n = 3\n",
    "l = 8\n",
    "for j in range(n):\n",
    "    i = randint(0, x_train.shape[0])\n",
    "    plt.plot(range(j*l, (j+1)*l), x_train[i], 'b')\n",
    "    plt.plot(range(j*l, (j+1)*l), decoded_imgs[i], 'r')\n",
    "plt.show() # This plot shows how much test and decoded data are alike"
   ]
  },
  {
   "cell_type": "code",
   "execution_count": 5,
   "metadata": {},
   "outputs": [
    {
     "name": "stdout",
     "output_type": "stream",
     "text": [
      "Loss = 0.1819\n"
     ]
    }
   ],
   "source": [
    "encoded_input = Input(shape=(encoding_dim,))\n",
    "final_layer = Dense(encoding_dim, activation='relu')(encoded_input)\n",
    "final_layer = Dense(1, activation='sigmoid')(final_layer)\n",
    "\n",
    "mlp_model = Model(encoded_input, final_layer)\n",
    "mlp_model.compile(loss='mean_squared_error',\n",
    "              optimizer='rmsprop',\n",
    "              metrics=['accuracy'])\n",
    "\n",
    "mlp_model.fit(encoded_imgs,\n",
    "              y_train,\n",
    "              epochs=500,\n",
    "              batch_size=256,\n",
    "              shuffle=True,\n",
    "              verbose=0)\n",
    "print 'Loss = %.4f' % mlp_model.evaluate(encoded_imgs, y_train, verbose=0)[0]"
   ]
  },
  {
   "cell_type": "code",
   "execution_count": 6,
   "metadata": {
    "scrolled": true
   },
   "outputs": [
    {
     "name": "stdout",
     "output_type": "stream",
     "text": [
      "R2 Error = 0.19\n",
      "Precision = 0.7302\n",
      "Recal = 0.7232\n",
      "F-Score = 0.7235\n"
     ]
    }
   ],
   "source": [
    "from util import R2\n",
    "from sklearn.metrics import precision_recall_fscore_support\n",
    "\n",
    "encoded_x_test = encoder.predict(x_test)\n",
    "y_pred = mlp_model.predict(encoded_x_test)\n",
    "\n",
    "a = y_pred.flatten()\n",
    "b = y_test\n",
    "\n",
    "print 'R2 Error = %.2f' % R2(a, b)\n",
    "\n",
    "a = [0 if i < 0.5 else 1 for i in a]\n",
    "b = [0 if i < 0.5 else 1 for i in b]\n",
    "precision, recal, f_score, support = precision_recall_fscore_support(a, b, average='macro')\n",
    "print 'Precision = %.4f' % precision\n",
    "print 'Recal = %.4f' % recal\n",
    "print 'F-Score = %.4f' % f_score"
   ]
  },
  {
   "cell_type": "code",
   "execution_count": 7,
   "metadata": {},
   "outputs": [
    {
     "name": "stdout",
     "output_type": "stream",
     "text": [
      "Any (a)= True\n",
      "Any (b)= True\n",
      "0 0 \n",
      "1 0 *\n",
      "0 1 *\n",
      "0 0 \n",
      "1 0 *\n",
      "0 0 \n",
      "0 0 \n",
      "1 1 \n",
      "0 0 \n",
      "1 1 \n",
      "0 0 \n",
      "1 1 \n",
      "1 0 *\n",
      "0 0 \n",
      "0 0 \n",
      "1 1 \n",
      "0 1 *\n",
      "0 0 \n",
      "0 0 \n",
      "0 1 *\n",
      "0 0 \n",
      "0 0 \n",
      "1 0 *\n",
      "0 0 \n",
      "0 1 *\n",
      "0 0 \n",
      "0 0 \n",
      "0 0 \n",
      "0 0 \n",
      "0 0 \n",
      "1 0 *\n",
      "1 1 \n",
      "1 1 \n",
      "0 0 \n",
      "1 0 *\n",
      "1 1 \n",
      "0 1 *\n",
      "1 0 *\n",
      "1 1 \n",
      "1 1 \n",
      "0 0 \n",
      "0 1 *\n",
      "0 0 \n",
      "0 0 \n",
      "1 1 \n",
      "0 0 \n",
      "0 0 \n",
      "1 1 \n",
      "0 0 \n",
      "0 0 \n",
      "1 0 *\n",
      "0 0 \n",
      "0 0 \n",
      "0 0 \n",
      "1 1 \n",
      "1 0 *\n",
      "1 0 *\n",
      "1 1 \n",
      "1 0 *\n",
      "0 0 \n",
      "0 0 \n",
      "1 0 *\n",
      "0 0 \n",
      "1 1 \n",
      "0 0 \n",
      "0 0 \n",
      "1 1 \n",
      "0 0 \n",
      "0 0 \n",
      "0 1 *\n",
      "0 0 \n",
      "0 0 \n",
      "1 0 *\n",
      "0 0 \n",
      "0 0 \n",
      "1 0 *\n",
      "0 0 \n",
      "0 0 \n",
      "1 0 *\n",
      "0 0 \n",
      "0 0 \n",
      "0 0 \n",
      "0 0 \n",
      "0 0 \n",
      "1 1 \n",
      "0 0 \n",
      "0 0 \n",
      "0 0 \n",
      "1 1 \n",
      "1 0 *\n",
      "0 1 *\n",
      "0 0 \n",
      "0 0 \n",
      "0 0 \n",
      "0 1 *\n",
      "1 0 *\n",
      "1 1 \n",
      "1 1 \n",
      "0 0 \n",
      "0 0 \n",
      "1 0 *\n",
      "1 0 *\n",
      "0 0 \n",
      "0 0 \n",
      "0 0 \n",
      "0 0 \n",
      "0 0 \n",
      "0 1 *\n",
      "0 0 \n",
      "0 0 \n",
      "0 1 *\n",
      "1 1 \n",
      "0 0 \n",
      "0 0 \n",
      "0 0 \n",
      "0 0 \n",
      "0 0 \n",
      "1 1 \n",
      "0 0 \n",
      "1 1 \n",
      "0 0 \n",
      "1 1 \n",
      "1 0 *\n",
      "0 0 \n",
      "0 1 *\n",
      "0 0 \n",
      "1 0 *\n",
      "1 1 \n",
      "1 0 *\n",
      "0 0 \n",
      "1 0 *\n",
      "1 1 \n",
      "0 0 \n",
      "0 0 \n",
      "0 0 \n",
      "0 0 \n",
      "0 0 \n",
      "0 1 *\n",
      "1 0 *\n",
      "0 0 \n",
      "1 1 \n",
      "0 0 \n",
      "0 1 *\n",
      "1 1 \n",
      "0 0 \n",
      "1 1 \n",
      "0 0 \n",
      "1 1 \n",
      "0 1 *\n",
      "1 1 \n",
      "1 1 \n",
      "1 0 *\n",
      "0 0 \n",
      "0 1 *\n"
     ]
    }
   ],
   "source": [
    "print 'Any (a)=', np.any(a)\n",
    "print 'Any (b)=', np.any(b)\n",
    "for x, y in zip(a,b):\n",
    "    print x, y, '*' if x != y else ''"
   ]
  },
  {
   "cell_type": "code",
   "execution_count": null,
   "metadata": {},
   "outputs": [],
   "source": []
  }
 ],
 "metadata": {
  "kernelspec": {
   "display_name": "Python 2",
   "language": "python",
   "name": "python2"
  },
  "language_info": {
   "codemirror_mode": {
    "name": "ipython",
    "version": 2
   },
   "file_extension": ".py",
   "mimetype": "text/x-python",
   "name": "python",
   "nbconvert_exporter": "python",
   "pygments_lexer": "ipython2",
   "version": "2.7.15"
  }
 },
 "nbformat": 4,
 "nbformat_minor": 2
}
